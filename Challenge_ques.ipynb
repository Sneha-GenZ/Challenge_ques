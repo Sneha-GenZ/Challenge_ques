{
  "nbformat": 4,
  "nbformat_minor": 0,
  "metadata": {
    "colab": {
      "provenance": [],
      "authorship_tag": "ABX9TyNiP+tRWmOJJcEl8cRMeDF9",
      "include_colab_link": true
    },
    "kernelspec": {
      "name": "python3",
      "display_name": "Python 3"
    },
    "language_info": {
      "name": "python"
    }
  },
  "cells": [
    {
      "cell_type": "markdown",
      "metadata": {
        "id": "view-in-github",
        "colab_type": "text"
      },
      "source": [
        "<a href=\"https://colab.research.google.com/github/Sneha-GenZ/Challenge_ques/blob/main/Challenge_ques.ipynb\" target=\"_parent\"><img src=\"https://colab.research.google.com/assets/colab-badge.svg\" alt=\"Open In Colab\"/></a>"
      ]
    },
    {
      "cell_type": "markdown",
      "source": [
        "#**Challenge Question**"
      ],
      "metadata": {
        "id": "wZ2_TlKBFWIc"
      }
    },
    {
      "cell_type": "code",
      "source": [
        "# Write a python program to sort the list of heterogeneous data.\n",
        "#L = [\"Ram\", 1, \"Shyam\", 2, \"Aman\", 3]--->This won't work!(Challenge)\n",
        "L = [\"Ram\", \"1\", \"Shyam\", \"2\", \"Aman\", \"3\"] #All the data should be of same type(i.e. string in this case) in order to  sort it.\n",
        "print(\"Before sorting :\",L)\n",
        "L.sort()\n",
        "print(\"After sorting : \",L)"
      ],
      "metadata": {
        "colab": {
          "base_uri": "https://localhost:8080/"
        },
        "id": "xj-1f30YFbU1",
        "outputId": "cadbd52f-ac37-4a89-d459-181ed88ccfb2"
      },
      "execution_count": 1,
      "outputs": [
        {
          "output_type": "stream",
          "name": "stdout",
          "text": [
            "Before sorting : ['Ram', '1', 'Shyam', '2', 'Aman', '3']\n",
            "After sorting :  ['1', '2', '3', 'Aman', 'Ram', 'Shyam']\n"
          ]
        }
      ]
    }
  ]
}